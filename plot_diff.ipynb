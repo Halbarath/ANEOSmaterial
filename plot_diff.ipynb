{
 "cells": [
  {
   "cell_type": "markdown",
   "metadata": {},
   "source": [
    "### Import modules"
   ]
  },
  {
   "cell_type": "code",
   "execution_count": null,
   "metadata": {},
   "outputs": [],
   "source": [
    "from __future__ import print_function\n",
    "import matplotlib.pyplot as plt\n",
    "import matplotlib as mpl\n",
    "import numpy as np"
   ]
  },
  {
   "cell_type": "markdown",
   "metadata": {},
   "source": [
    "### Load data"
   ]
  },
  {
   "cell_type": "code",
   "execution_count": null,
   "metadata": {},
   "outputs": [],
   "source": [
    "data = np.loadtxt(\"diff_press_int.txt\")\n",
    "rho = np.loadtxt(\"rho_axis_int.txt\")\n",
    "T = np.loadtxt(\"T_axis_int.txt\")\n",
    "\n",
    "rho_min = np.min(rho)\n",
    "rho_max = np.max(rho)\n",
    "T_min = np.min(T)\n",
    "T_max = np.max(T)\n",
    "\n",
    "print(\"rho_min = {:15.7E} rho_max = {:15.7E}\".format(rho_min, rho_max))\n",
    "print(\"T_min   = {:15.7E} T_max   = {:15.7E}\".format(T_min, T_max))\n",
    "\n",
    "max_diff = np.max(data)\n",
    "min_diff = np.min(data)\n",
    "\n",
    "print(\"min_diff= {:}\".format(min_diff))\n",
    "print(\"max_diff= {:}\".format(max_diff))\n",
    "\n",
    "diff = np.zeros(data.shape)\n",
    "\n",
    "diff[np.where(data >= 1)] = 4\n",
    "diff[np.where(data < 1)] = 3\n",
    "diff[np.where(data < 1e-1)] = 2\n",
    "diff[np.where(data < 1e-3)] = 1\n",
    "diff[np.where(data < 1e-6)] = 0\n"
   ]
  },
  {
   "cell_type": "code",
   "execution_count": null,
   "metadata": {},
   "outputs": [],
   "source": [
    "print(diff)\n",
    "print(np.where(data >= 1))\n",
    "print(np.where(diff == 4))\n",
    "print(np.where(diff == 3))\n",
    "\n",
    "print(np.where(diff != 0))\n",
    "\n",
    "print(data.shape)\n",
    "\n"
   ]
  },
  {
   "cell_type": "markdown",
   "metadata": {},
   "source": [
    "### Plot data"
   ]
  },
  {
   "cell_type": "code",
   "execution_count": null,
   "metadata": {},
   "outputs": [],
   "source": [
    "# Set Up Figure, Single Column MNRAS\n",
    "#mpl.rcParams['figure.figsize'] = 8.27*0.39,8.27*(6./8.)*0.39\n",
    "mpl.rcParams['figure.dpi'] = 200"
   ]
  },
  {
   "cell_type": "code",
   "execution_count": null,
   "metadata": {},
   "outputs": [],
   "source": [
    "# Plot the array\n",
    "fig, ax = plt.subplots(1,1)\n",
    "plt.imshow(data, cmap=plt.cm.viridis, origin='lower', interpolation='none', extent=[rho_min, rho_max, T_min, T_max], aspect='auto')\n",
    "#plt.imshow(data, cmap=plt.cm.viridis, origin='lower', interpolation='none', aspect='equal')\n",
    "plt.colorbar()\n",
    "\n",
    "\n",
    "plt.xlabel(\"Density [g cm$^3$]\")\n",
    "plt.ylabel(\"Temperature [K]\")"
   ]
  },
  {
   "cell_type": "code",
   "execution_count": null,
   "metadata": {},
   "outputs": [],
   "source": [
    "# Plot the different regions where the data agrees\n",
    "fig, ax = plt.subplots(1,1)\n",
    "plt.imshow(diff, cmap=plt.cm.get_cmap('viridis', 5), origin='lower', interpolation='none', extent=[rho_min, rho_max, T_min, T_max], aspect='auto')\n",
    "plt.colorbar()\n",
    "\n",
    "plt.clim(-0.5, 4.5);\n",
    "\n",
    "plt.xlabel(\"Density [g cm$^3$]\")\n",
    "plt.ylabel(\"Temperature [K]\")"
   ]
  },
  {
   "cell_type": "markdown",
   "metadata": {},
   "source": [
    "### Save plots"
   ]
  },
  {
   "cell_type": "code",
   "execution_count": null,
   "metadata": {},
   "outputs": [],
   "source": [
    "plt.savefig(\"diff_press.png\",dpi=300, bbox_inches='tight')"
   ]
  }
 ],
 "metadata": {
  "kernelspec": {
   "display_name": "Python 3",
   "language": "python",
   "name": "python3"
  },
  "language_info": {
   "codemirror_mode": {
    "name": "ipython",
    "version": 3
   },
   "file_extension": ".py",
   "mimetype": "text/x-python",
   "name": "python",
   "nbconvert_exporter": "python",
   "pygments_lexer": "ipython3",
   "version": "3.8.10"
  }
 },
 "nbformat": 4,
 "nbformat_minor": 4
}
